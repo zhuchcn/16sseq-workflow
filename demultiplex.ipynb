{
 "cells": [
  {
   "cell_type": "markdown",
   "metadata": {},
   "source": [
    "## 16S Amplicon Demultiplex Workflow"
   ]
  },
  {
   "cell_type": "markdown",
   "metadata": {},
   "source": [
    "* Chenghao Zhu\n",
    "* 2019/9/18\n",
    "* chhzhu@ucdavis.edu"
   ]
  },
  {
   "cell_type": "markdown",
   "metadata": {},
   "source": [
    "This workflow covers the basic steps of processing 16S sequencing data, including demultiplex, filtering, and trimming primers for the raw fastq files. The demultiplexed data is then ready for otu picking. This workflow is designated for the old sequencing method from David [Miles lab](http://mills.ucdavis.edu/), which only use barcodea on the forward primer (that means the reverse (downstream) primer is not barcoded). \n",
    "\n",
    "In this workflow, the raw paired end read fastq files were first demultiplexed using the barcode to pick up reads that have barcode in the begining of R1. Then the unmatched reads (unmatched_R1.fastq, unmatched_R2.fastq) were demultiplexed using barcode as reverse barcode, to pick up reads that have barcode in the begining of R2. The command line tool [**fastq_multx**](https://github.com/brwnj/fastq-multx) is used to demultiplex the sequencing reads without merging then (one example that merge while demultiplexing is [PEAR](https://sco.h-its.org/exelixis/web/software/pear/doc.html)). The demultiplexed reads (sample01_R1.fastq, sample-1_R2.fastq, ...) were then filtered using a python script, to remove reads that don't have the primers in the right place (most likely generated because of errors). Primers were then cut off from each end by specifying the lengths of priimers, and the 2 fastq files that belong to the same sample were concatenated together. In the very last step, FastQC is used to check the quality of reads, to determine the length to use in [**DADA2**](https://benjjneb.github.io/dada2/tutorial.html).\n",
    "\n",
    "This workflow requires around 40G disk space. The actual disk space might vary depands on the sample size. Make sure your hvae at lease **50G** of empty disk space before you start.\n",
    "\n",
    "This workflow is writen in Jupyter notebook. If you want to run directly in shell command, please remove the \"!\" in front of each command. The \"!\" is a trick in Jupyter Notebook to exacute shell commands."
   ]
  },
  {
   "cell_type": "markdown",
   "metadata": {},
   "source": [
    "### Step 0. Set up"
   ]
  },
  {
   "cell_type": "markdown",
   "metadata": {},
   "source": [
    "First set up the project, by creating a folder named \"00-Raw\" that stores the raw sequences fastq files as well as sample metadata files."
   ]
  },
  {
   "cell_type": "markdown",
   "metadata": {},
   "source": [
    "### Step 1. Demultiplex the forward and reversed separately"
   ]
  },
  {
   "cell_type": "markdown",
   "metadata": {},
   "source": [
    "16S sequencing method mixes samples, sometimes from different studies, into a pool that they call it \"library\", after PCR amplication. Samples are labeled using unique 6-digit (sometimes 8-digit) barcode previous to pooling. And those barcodes are what used to match the sequencing reads to its co-responding sample ID. And this process is called *demultiplexing*.\n",
    "\n",
    "Many popular demultiplexing tools like [PEAR](https://sco.h-its.org/exelixis/web/software/pear/doc.html) merges the forward and reversed reads together while demultiplexing. A consequence of that is that the quality scores are all removed. The popular otu clustering algorithm [DADA2](https://benjjneb.github.io/dada2/tutorial.html) however uses the quality scores to remove noises. \n",
    "\n",
    "So here we use the command line tool [fastq-multx](https://github.com/brwnj/fastq-multx) to demultiplx and keep the forward and reversed read separated. Read the fastq-multx documentation for more information."
   ]
  },
  {
   "cell_type": "markdown",
   "metadata": {},
   "source": [
    "<div class=\"alert alert-block alert-warning\">\n",
    "<b>Warning:</b> This command generates around 17G fastq files for 40 samples. Make sure you enough disk space..\n",
    "</div>"
   ]
  },
  {
   "cell_type": "code",
   "execution_count": null,
   "metadata": {},
   "outputs": [],
   "source": [
    "BARCODE_FILE=\"00-Raw/2017_AZ_barcodes_egg.txt\"\n",
    "FASTQ_LIB_R1=\"00-Raw/FFUBS-Run_S1_L001_R1_001.fastq\"\n",
    "FASTQ_LIB_R2=\"00-Raw/FFUBS-Run_S1_L001_R2_001.fastq\""
   ]
  },
  {
   "cell_type": "code",
   "execution_count": null,
   "metadata": {},
   "outputs": [],
   "source": [
    "mkdir -p \"01-Demultx\"\n",
    "mkdir -p \"01-Demultx/R1\"\n",
    "mkdir -p \"01-Demultx/R2\""
   ]
  },
  {
   "cell_type": "markdown",
   "metadata": {},
   "source": [
    "#### 1.1 Demultiplex the forward"
   ]
  },
  {
   "cell_type": "code",
   "execution_count": null,
   "metadata": {
    "scrolled": true
   },
   "outputs": [],
   "source": [
    "fastq-multx -m 0 -x -b -B $BARCODE_FILE \\\n",
    "        $FASTQ_LIB_R1 $FASTQ_LIB_R2 \\\n",
    "        -o 01-Demultx/R1/%_R1.fastq \\\n",
    "        -o 01-Demultx/R1/%_R2.fastq"
   ]
  },
  {
   "cell_type": "markdown",
   "metadata": {},
   "source": [
    "#### 1.2 Demultiplex the reversed"
   ]
  },
  {
   "cell_type": "markdown",
   "metadata": {},
   "source": [
    "<div class=\"alert alert-block alert-warning\">\n",
    "<b>Warning:</b> This command geneerates additional 21G fastq files for 40 samples.\n",
    "</div>"
   ]
  },
  {
   "cell_type": "code",
   "execution_count": null,
   "metadata": {
    "scrolled": false
   },
   "outputs": [],
   "source": [
    "fastq-multx -B $BARCODE_FILE -m 0 -x -b\\\n",
    "        01-Demultx/R1/unmatched_R2.fastq \\\n",
    "        01-Demultx/R1/unmatched_R1.fastq \\\n",
    "        -o 01-Demultx/R2/%_R2.fastq \\\n",
    "        -o 01-Demultx/R2/%_R1.fastq"
   ]
  },
  {
   "cell_type": "markdown",
   "metadata": {},
   "source": [
    "<div class=\"alert alert-block alert-success\">\n",
    "<b>Tip:</b> The raw fastq fiels can be deleted now to save your disk space. As well as the unmatched_R1.fastq and unmatched_R2.fastq.\n",
    "</div>"
   ]
  },
  {
   "cell_type": "markdown",
   "metadata": {},
   "source": [
    "### Step 2. Filter"
   ]
  },
  {
   "cell_type": "markdown",
   "metadata": {},
   "source": [
    "Although the demultiplex step above picks up sequences that only starts with the barcodes for each sample. However, some **PhiX** sequences that happen to start with nucleotides that are same as the barcode can also be picked up. The purpose of this step is filter out those reads, and only keep the reads that not only have barcodes, but also have both forward and reverse primer at the correct location of the sequences."
   ]
  },
  {
   "cell_type": "markdown",
   "metadata": {},
   "source": [
    "<div class=\"alert alert-block alert-warning\">\n",
    "<b>Warning:</b> Make sure the remove_phix.py file is at the correct place.\n",
    "</div>"
   ]
  },
  {
   "cell_type": "code",
   "execution_count": null,
   "metadata": {},
   "outputs": [],
   "source": [
    "mkdir -p 02-Filter\n",
    "mkdir -p 02-Filter/R1\n",
    "mkdir -p 02-Filter/R2"
   ]
  },
  {
   "cell_type": "code",
   "execution_count": null,
   "metadata": {},
   "outputs": [],
   "source": [
    "ls 01-Demultx/R1/EG*_R1.fastq | cut -f3 -d '/' |cut -f1 -d '.' >filt_R1.txt\n",
    "ls 01-Demultx/R1/EG*_R2.fastq | cut -f3 -d '/' |cut -f1 -d '.' >filt_R2.txt"
   ]
  },
  {
   "cell_type": "code",
   "execution_count": null,
   "metadata": {},
   "outputs": [],
   "source": [
    "python phix_filter.py \\\n",
    "    --input-forward-list filt_R1.txt \\\n",
    "    --input-reverse-list filt_R2.txt \\\n",
    "    --input-path 01-Demultx/R1 \\\n",
    "    --output-path 02-Filter/R1 \\\n",
    "    --barcodes $BARCODE_FILE \\\n",
    "    --forward-primer GTGTGCCAGCMGCCGCGGTAA \\\n",
    "    --reverse-primer GGACTACNVGGGTWTCTAAT"
   ]
  },
  {
   "cell_type": "code",
   "execution_count": null,
   "metadata": {},
   "outputs": [],
   "source": [
    "python phix_filter.py \\\n",
    "    --input-forward-list filt_R2.txt \\\n",
    "    --input-reverse-list filt_R1.txt \\\n",
    "    --input-path 01-Demultx/R2 \\\n",
    "    --output-path 02-Filter/R2 \\\n",
    "    --barcodes $BARCODE_FILE \\\n",
    "    --forward-primer GTGTGCCAGCMGCCGCGGTAA \\\n",
    "    --reverse-primer GGACTACNVGGGTWTCTAAT"
   ]
  },
  {
   "cell_type": "markdown",
   "metadata": {},
   "source": [
    "### Step 3. Trim off primers"
   ]
  },
  {
   "cell_type": "code",
   "execution_count": null,
   "metadata": {},
   "outputs": [],
   "source": [
    "ls 02-Filter/R1/EG*_R1.filt.fastq | cut -f3 -d '/' | cut -f1 -d '.' > trim_R1.txt\n",
    "ls 02-Filter/R1/EG*_R2.filt.fastq | cut -f3 -d '/' | cut -f1 -d '.' > trim_R2.txt"
   ]
  },
  {
   "cell_type": "code",
   "execution_count": null,
   "metadata": {},
   "outputs": [],
   "source": [
    "mkdir -p 03-Trim\n",
    "mkdir -p 03-Trim/R1\n",
    "mkdir -p 03-Trim/R2"
   ]
  },
  {
   "cell_type": "code",
   "execution_count": null,
   "metadata": {},
   "outputs": [],
   "source": [
    "while read trim\n",
    "do\n",
    "    fastx_trimmer -f 30 -i 02-Filter/R1/$trim.filt.fastq -o 03-Trim/R1/$trim.trim.fastq\n",
    "done < trim_R1.txt"
   ]
  },
  {
   "cell_type": "code",
   "execution_count": null,
   "metadata": {},
   "outputs": [],
   "source": [
    "while read trim\n",
    "do\n",
    "    fastx_trimmer -f 21 -i 02-Filter/R1/$trim.filt.fastq -o 03-Trim/R1/$trim.trim.fastq\n",
    "done < trim_R2.txt"
   ]
  },
  {
   "cell_type": "code",
   "execution_count": null,
   "metadata": {},
   "outputs": [],
   "source": [
    "while read trim\n",
    "do\n",
    "    fastx_trimmer -f 21 -i 02-Filter/R2/$trim.filt.fastq -o 03-Trim/R2/$trim.trim.fastq\n",
    "done < trim_R1.txt"
   ]
  },
  {
   "cell_type": "code",
   "execution_count": null,
   "metadata": {},
   "outputs": [],
   "source": [
    "while read trim\n",
    "do\n",
    "    fastx_trimmer -f 30 -i 02-Filter/R2/$trim.filt.fastq -o 03-Trim/R2/$trim.trim.fastq\n",
    "done < trim_R2.txt"
   ]
  },
  {
   "cell_type": "markdown",
   "metadata": {},
   "source": [
    "### Step 4. Concatenate"
   ]
  },
  {
   "cell_type": "markdown",
   "metadata": {},
   "source": [
    "This step is only "
   ]
  },
  {
   "cell_type": "code",
   "execution_count": null,
   "metadata": {},
   "outputs": [],
   "source": [
    "mkdir -p 04-Combine"
   ]
  },
  {
   "cell_type": "code",
   "execution_count": null,
   "metadata": {},
   "outputs": [],
   "source": [
    "ls 03-Trim/R1/EG*.fastq | cut -f3 -d '/' |cut -f1 -d '_' | uniq > sample_list.txt"
   ]
  },
  {
   "cell_type": "code",
   "execution_count": null,
   "metadata": {},
   "outputs": [],
   "source": [
    "wc -l sample_list.txt"
   ]
  },
  {
   "cell_type": "code",
   "execution_count": null,
   "metadata": {},
   "outputs": [],
   "source": [
    "while read id\n",
    "do\n",
    "    cat 03-Trim/R1/${id}_R1.trim.fastq 03-Trim/R2/${id}_R1.trim.fastq > 04-Combine/${id}_R1_combine.fastq\n",
    "done < sample_list.txt"
   ]
  },
  {
   "cell_type": "code",
   "execution_count": null,
   "metadata": {},
   "outputs": [],
   "source": [
    "while read id\n",
    "do\n",
    "    cat 03-Trim/R1/${id}_R2.trim.fastq 03-Trim/R2/${id}_R2.trim.fastq > 04-Combine/${id}_R2_combine.fastq\n",
    "done < sample_list.txt"
   ]
  },
  {
   "cell_type": "markdown",
   "metadata": {},
   "source": [
    "### Step 5. FastQC"
   ]
  },
  {
   "cell_type": "code",
   "execution_count": null,
   "metadata": {},
   "outputs": [],
   "source": [
    "mkdir -p 05-FastQC"
   ]
  },
  {
   "cell_type": "code",
   "execution_count": null,
   "metadata": {},
   "outputs": [],
   "source": [
    "fastqc --help"
   ]
  },
  {
   "cell_type": "code",
   "execution_count": null,
   "metadata": {},
   "outputs": [],
   "source": [
    "cat 04-Combine/EG*_R1_combine.fastq | gzip -c > 05-FastQC/R1_all.fastq.gz\n",
    "cat 04-Combine/EG*_R2_combine.fastq | gzip -c > 05-FastQC/R2_all.fastq.gz"
   ]
  },
  {
   "cell_type": "code",
   "execution_count": null,
   "metadata": {
    "scrolled": true
   },
   "outputs": [],
   "source": [
    "fastqc 05-FastQC/R1_all.fastq.gz 05-FastQC/R2_all.fastq.gz -o 05-FastQC"
   ]
  },
  {
   "cell_type": "code",
   "execution_count": null,
   "metadata": {},
   "outputs": [],
   "source": [
    "rm 05-FastQC/R1_all.fastq.gz\n",
    "rm 05-FastQC/R2_all.fastq.gz"
   ]
  },
  {
   "cell_type": "code",
   "execution_count": null,
   "metadata": {},
   "outputs": [],
   "source": [
    "ls 05-FastQC"
   ]
  },
  {
   "cell_type": "markdown",
   "metadata": {},
   "source": [
    "### Next.."
   ]
  },
  {
   "cell_type": "markdown",
   "metadata": {},
   "source": [
    "Up to now, the demultiplexing is done. The sequencing library is demultipled according to the barcodes provided, into each individual sample. The folder 04-Combine has all the individual fastq files, and can be then used for OTU/ASV clustering. Although there are several options out there, a [DADA2](https://benjjneb.github.io/dada2/) workflow is provided and can be run in R."
   ]
  }
 ],
 "metadata": {
  "kernelspec": {
   "display_name": "Bash",
   "language": "bash",
   "name": "bash"
  },
  "language_info": {
   "codemirror_mode": "shell",
   "file_extension": ".sh",
   "mimetype": "text/x-sh",
   "name": "bash"
  }
 },
 "nbformat": 4,
 "nbformat_minor": 2
}
